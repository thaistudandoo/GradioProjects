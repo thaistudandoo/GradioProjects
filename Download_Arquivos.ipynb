{
  "cells": [
    {
      "cell_type": "markdown",
      "metadata": {
        "id": "GT4KbqAloLHO"
      },
      "source": [
        "## <center> Download de arquivos usando a biblioteca gradio </center>"
      ]
    },
    {
      "cell_type": "code",
      "execution_count": null,
      "metadata": {
        "id": "SAefyDMtYD7b"
      },
      "outputs": [],
      "source": [
        "!pip install --upgrade gradio"
      ]
    },
    {
      "cell_type": "code",
      "execution_count": 3,
      "metadata": {
        "id": "CFr5kJqimk17"
      },
      "outputs": [],
      "source": [
        "import gradio as gr\n",
        "import urllib.request"
      ]
    },
    {
      "cell_type": "code",
      "execution_count": 4,
      "metadata": {
        "id": "zyNPyqSGmsqd"
      },
      "outputs": [],
      "source": [
        "# Função pra cada diploma\n",
        "def download_diploma(diploma):\n",
        "    if diploma == \"Diploma do ICE\":\n",
        "        file_url = \"https://raw.githubusercontent.com/thaistudandoo/GradioProjects/main/01.pdf\"\n",
        "    elif diploma == \"Diploma da Engenharia\":\n",
        "        file_url = \"https://raw.githubusercontent.com/thaistudandoo/GradioProjects/main/02.pdf\"\n",
        "    else:\n",
        "        return \"Selecione um arquivo para fazer o download.\"\n",
        "\n",
        "    return f'<a href=\"{file_url}\" download>Clique para realizar o download</a>'\n"
      ]
    },
    {
      "cell_type": "code",
      "execution_count": 5,
      "metadata": {
        "colab": {
          "base_uri": "https://localhost:8080/"
        },
        "id": "q_ShhN8xnAbe",
        "outputId": "c7edaebb-d665-4534-e8bd-85211f6775f1"
      },
      "outputs": [
        {
          "name": "stderr",
          "output_type": "stream",
          "text": [
            "c:\\Users\\Thais\\AppData\\Local\\Programs\\Python\\Python310\\lib\\site-packages\\gradio\\inputs.py:219: UserWarning: Usage of gradio.inputs is deprecated, and will not be supported in the future, please import your component from gradio.components\n",
            "  warnings.warn(\n",
            "c:\\Users\\Thais\\AppData\\Local\\Programs\\Python\\Python310\\lib\\site-packages\\gradio\\inputs.py:222: UserWarning: `optional` parameter is deprecated, and it has no effect\n",
            "  super().__init__(\n"
          ]
        }
      ],
      "source": [
        "# Cria os botões\n",
        "iface = gr.Interface(\n",
        "    fn=download_diploma,\n",
        "    inputs=[\n",
        "        gr.inputs.Dropdown([\"Diploma do ICE\", \"Diploma da Engenharia\"], label=\"Selecione o diploma:\")\n",
        "    ],\n",
        "    outputs=\"html\",\n",
        "    title=\"Download de Diplomas\",\n",
        "    description=\"Escolha o diploma que deseja baixar.\",\n",
        "    theme = \"soft\" # \"base\"\n",
        ")"
      ]
    },
    {
      "cell_type": "code",
      "execution_count": 6,
      "metadata": {
        "colab": {
          "base_uri": "https://localhost:8080/",
          "height": 611
        },
        "id": "SPd7ZBvhnBx3",
        "outputId": "fb923a43-f194-45d3-a8c6-121f2869460e"
      },
      "outputs": [
        {
          "name": "stdout",
          "output_type": "stream",
          "text": [
            "Running on local URL:  http://127.0.0.1:7862\n",
            "Running on public URL: https://55a50ac04213dfb129.gradio.live\n",
            "\n",
            "This share link expires in 72 hours. For free permanent hosting and GPU upgrades, run `gradio deploy` from Terminal to deploy to Spaces (https://huggingface.co/spaces)\n"
          ]
        },
        {
          "data": {
            "text/html": [
              "<div><iframe src=\"https://55a50ac04213dfb129.gradio.live\" width=\"100%\" height=\"500\" allow=\"autoplay; camera; microphone; clipboard-read; clipboard-write;\" frameborder=\"0\" allowfullscreen></iframe></div>"
            ],
            "text/plain": [
              "<IPython.core.display.HTML object>"
            ]
          },
          "metadata": {},
          "output_type": "display_data"
        },
        {
          "data": {
            "text/plain": []
          },
          "execution_count": 6,
          "metadata": {},
          "output_type": "execute_result"
        }
      ],
      "source": [
        "iface.launch(share=True)"
      ]
    }
  ],
  "metadata": {
    "colab": {
      "provenance": []
    },
    "kernelspec": {
      "display_name": "Python 3.10.7 64-bit",
      "language": "python",
      "name": "python3"
    },
    "language_info": {
      "codemirror_mode": {
        "name": "ipython",
        "version": 3
      },
      "file_extension": ".py",
      "mimetype": "text/x-python",
      "name": "python",
      "nbconvert_exporter": "python",
      "pygments_lexer": "ipython3",
      "version": "3.10.7"
    },
    "vscode": {
      "interpreter": {
        "hash": "7de9bf2dc59b7d5405821269b4b47c601fe055bd7a63c43d30aa52b2584d0508"
      }
    }
  },
  "nbformat": 4,
  "nbformat_minor": 0
}
