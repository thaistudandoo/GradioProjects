{
  "nbformat": 4,
  "nbformat_minor": 0,
  "metadata": {
    "colab": {
      "provenance": []
    },
    "kernelspec": {
      "name": "python3",
      "display_name": "Python 3"
    },
    "language_info": {
      "name": "python"
    }
  },
  "cells": [
    {
      "cell_type": "markdown",
      "source": [
        "## <center> Download de arquivos usando a biblioteca gradio </center>"
      ],
      "metadata": {
        "id": "GT4KbqAloLHO"
      }
    },
    {
      "cell_type": "code",
      "source": [
        "!pip install --upgrade gradio"
      ],
      "metadata": {
        "id": "SAefyDMtYD7b"
      },
      "execution_count": null,
      "outputs": []
    },
    {
      "cell_type": "code",
      "execution_count": 129,
      "metadata": {
        "id": "CFr5kJqimk17"
      },
      "outputs": [],
      "source": [
        "import gradio as gr\n",
        "import urllib.request"
      ]
    },
    {
      "cell_type": "code",
      "source": [
        "# Função pra cada diploma\n",
        "def download_diploma(diploma):\n",
        "    if diploma == \"Diploma do ICE\":\n",
        "        file_url = \"https://raw.githubusercontent.com/thaistudandoo/Spotify-Data-Exploration/main/ThaisMarins_DiplomaICE_editado.pdf\"\n",
        "    elif diploma == \"Diploma da Engenharia\":\n",
        "        file_url = \"https://raw.githubusercontent.com/thaistudandoo/Spotify-Data-Exploration/main/ThaisMarins_DiplomaEngenharia_editado.pdf\"\n",
        "    else:\n",
        "        return \"Selecione um arquivo para fazer o download.\"\n",
        "\n",
        "    return f'<a href=\"{file_url}\" download>Clique para realizar o download</a>'\n"
      ],
      "metadata": {
        "id": "zyNPyqSGmsqd"
      },
      "execution_count": 154,
      "outputs": []
    },
    {
      "cell_type": "code",
      "source": [
        "# Cria os botões\n",
        "iface = gr.Interface(\n",
        "    fn=download_diploma,\n",
        "    inputs=[\n",
        "        gr.inputs.Dropdown([\"Diploma do ICE\", \"Diploma da Engenharia\"], label=\"Selecione o diploma:\")\n",
        "    ],\n",
        "    outputs=\"html\",\n",
        "    title=\"Download de Diplomas\",\n",
        "    description=\"Escolha o diploma que deseja baixar.\",\n",
        "    theme = \"soft\" # \"base\"\n",
        ")"
      ],
      "metadata": {
        "colab": {
          "base_uri": "https://localhost:8080/"
        },
        "id": "q_ShhN8xnAbe",
        "outputId": "c7edaebb-d665-4534-e8bd-85211f6775f1"
      },
      "execution_count": 155,
      "outputs": [
        {
          "output_type": "stream",
          "name": "stderr",
          "text": [
            "<ipython-input-155-00cb64211020>:5: GradioDeprecationWarning: Usage of gradio.inputs is deprecated, and will not be supported in the future, please import your component from gradio.components\n",
            "  gr.inputs.Dropdown([\"Diploma do ICE\", \"Diploma da Engenharia\"], label=\"Selecione o diploma:\")\n",
            "<ipython-input-155-00cb64211020>:5: GradioDeprecationWarning: `optional` parameter is deprecated, and it has no effect\n",
            "  gr.inputs.Dropdown([\"Diploma do ICE\", \"Diploma da Engenharia\"], label=\"Selecione o diploma:\")\n"
          ]
        }
      ]
    },
    {
      "cell_type": "code",
      "source": [
        "iface.launch(share=True)"
      ],
      "metadata": {
        "colab": {
          "base_uri": "https://localhost:8080/",
          "height": 611
        },
        "id": "SPd7ZBvhnBx3",
        "outputId": "fb923a43-f194-45d3-a8c6-121f2869460e"
      },
      "execution_count": 156,
      "outputs": [
        {
          "output_type": "stream",
          "name": "stdout",
          "text": [
            "Colab notebook detected. To show errors in colab notebook, set debug=True in launch()\n",
            "Running on public URL: https://6f50cfe436fb329192.gradio.live\n",
            "\n",
            "This share link expires in 72 hours. For free permanent hosting and GPU upgrades, run `gradio deploy` from Terminal to deploy to Spaces (https://huggingface.co/spaces)\n"
          ]
        },
        {
          "output_type": "display_data",
          "data": {
            "text/plain": [
              "<IPython.core.display.HTML object>"
            ],
            "text/html": [
              "<div><iframe src=\"https://6f50cfe436fb329192.gradio.live\" width=\"100%\" height=\"500\" allow=\"autoplay; camera; microphone; clipboard-read; clipboard-write;\" frameborder=\"0\" allowfullscreen></iframe></div>"
            ]
          },
          "metadata": {}
        },
        {
          "output_type": "execute_result",
          "data": {
            "text/plain": []
          },
          "metadata": {},
          "execution_count": 156
        }
      ]
    },
    {
      "cell_type": "code",
      "source": [
        "# Tudo junto\n",
        "\n",
        "import gradio as gr\n",
        "import urllib.request\n",
        "\n",
        "# Função pra cada diploma\n",
        "def download_diploma(diploma):\n",
        "    if diploma == \"Diploma do ICE\":\n",
        "        file_url = \"https://raw.githubusercontent.com/thaistudandoo/Spotify-Data-Exploration/main/ThaisMarins_DiplomaICE_editado.pdf\"\n",
        "    elif diploma == \"Diploma da Engenharia\":\n",
        "        file_url = \"https://raw.githubusercontent.com/thaistudandoo/Spotify-Data-Exploration/main/ThaisMarins_DiplomaEngenharia_editado.pdf\"\n",
        "    else:\n",
        "        return \"Selecione um arquivo para fazer o download.\"\n",
        "\n",
        "    return f'<a href=\"{file_url}\" download>Download do Diploma</a>'\n",
        "\n",
        "# Cria os botões\n",
        "iface = gr.Interface(\n",
        "    fn=download_diploma,\n",
        "    inputs=[\n",
        "        gr.inputs.Dropdown([\"Diploma do ICE\", \"Diploma da Engenharia\"], label=\"Selecione o diploma:\")\n",
        "    ],\n",
        "    outputs=\"html\",\n",
        "    title=\"Download de Diplomas\",\n",
        "    description=\"Escolha o diploma que deseja baixar.\",\n",
        "    theme = \"soft\" # \"base\"\n",
        "\n",
        ")\n",
        "\n",
        "iface.launch(share=True)\n"
      ],
      "metadata": {
        "id": "mVgvVtjXYb3C"
      },
      "execution_count": null,
      "outputs": []
    }
  ]
}