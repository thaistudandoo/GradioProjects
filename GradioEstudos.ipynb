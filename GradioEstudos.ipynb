{
  "cells": [
    {
      "cell_type": "markdown",
      "metadata": {
        "id": "GT4KbqAloLHO"
      },
      "source": [
        "## <center> Download de arquivos usando a biblioteca gradio </center>"
      ]
    },
    {
      "cell_type": "code",
      "execution_count": null,
      "metadata": {
        "id": "SAefyDMtYD7b"
      },
      "outputs": [],
      "source": [
        "!pip install --upgrade gradio"
      ]
    },
    {
      "cell_type": "code",
      "execution_count": 129,
      "metadata": {
        "id": "CFr5kJqimk17"
      },
      "outputs": [],
      "source": [
        "import gradio as gr\n",
        "import urllib.request"
      ]
    },
    {
      "cell_type": "code",
      "execution_count": 1,
      "metadata": {
        "id": "zyNPyqSGmsqd"
      },
      "outputs": [],
      "source": [
        "# Função pra cada diploma\n",
        "def download_diploma(diploma):\n",
        "    if diploma == \"Diploma do ICE\":\n",
        "        file_url = \"https://raw.githubusercontent.com/thaistudandoo/GradioProjects/main/ThaisMarins_DiplomaICE_editado.pdf\"\n",
        "    elif diploma == \"Diploma da Engenharia\":\n",
        "        file_url = \"https://raw.githubusercontent.com/thaistudandoo/GradioProjects/main/ThaisMarins_DiplomaEngenharia_editado.pdf\"\n",
        "    else:\n",
        "        return \"Selecione um arquivo para fazer o download.\"\n",
        "\n",
        "    return f'<a href=\"{file_url}\" download>Clique para realizar o download</a>'\n"
      ]
    },
    {
      "cell_type": "code",
      "execution_count": 2,
      "metadata": {
        "colab": {
          "base_uri": "https://localhost:8080/"
        },
        "id": "q_ShhN8xnAbe",
        "outputId": "c7edaebb-d665-4534-e8bd-85211f6775f1"
      },
      "outputs": [
        {
          "ename": "NameError",
          "evalue": "name 'gr' is not defined",
          "output_type": "error",
          "traceback": [
            "\u001b[1;31m---------------------------------------------------------------------------\u001b[0m",
            "\u001b[1;31mNameError\u001b[0m                                 Traceback (most recent call last)",
            "Cell \u001b[1;32mIn [2], line 2\u001b[0m\n\u001b[0;32m      1\u001b[0m \u001b[38;5;66;03m# Cria os botões\u001b[39;00m\n\u001b[1;32m----> 2\u001b[0m iface \u001b[38;5;241m=\u001b[39m gr\u001b[38;5;241m.\u001b[39mInterface(\n\u001b[0;32m      3\u001b[0m     fn\u001b[38;5;241m=\u001b[39mdownload_diploma,\n\u001b[0;32m      4\u001b[0m     inputs\u001b[38;5;241m=\u001b[39m[\n\u001b[0;32m      5\u001b[0m         gr\u001b[38;5;241m.\u001b[39minputs\u001b[38;5;241m.\u001b[39mDropdown([\u001b[38;5;124m\"\u001b[39m\u001b[38;5;124mDiploma do ICE\u001b[39m\u001b[38;5;124m\"\u001b[39m, \u001b[38;5;124m\"\u001b[39m\u001b[38;5;124mDiploma da Engenharia\u001b[39m\u001b[38;5;124m\"\u001b[39m], label\u001b[38;5;241m=\u001b[39m\u001b[38;5;124m\"\u001b[39m\u001b[38;5;124mSelecione o diploma:\u001b[39m\u001b[38;5;124m\"\u001b[39m)\n\u001b[0;32m      6\u001b[0m     ],\n\u001b[0;32m      7\u001b[0m     outputs\u001b[38;5;241m=\u001b[39m\u001b[38;5;124m\"\u001b[39m\u001b[38;5;124mhtml\u001b[39m\u001b[38;5;124m\"\u001b[39m,\n\u001b[0;32m      8\u001b[0m     title\u001b[38;5;241m=\u001b[39m\u001b[38;5;124m\"\u001b[39m\u001b[38;5;124mDownload de Diplomas\u001b[39m\u001b[38;5;124m\"\u001b[39m,\n\u001b[0;32m      9\u001b[0m     description\u001b[38;5;241m=\u001b[39m\u001b[38;5;124m\"\u001b[39m\u001b[38;5;124mEscolha o diploma que deseja baixar.\u001b[39m\u001b[38;5;124m\"\u001b[39m,\n\u001b[0;32m     10\u001b[0m     theme \u001b[38;5;241m=\u001b[39m \u001b[38;5;124m\"\u001b[39m\u001b[38;5;124msoft\u001b[39m\u001b[38;5;124m\"\u001b[39m \u001b[38;5;66;03m# \"base\"\u001b[39;00m\n\u001b[0;32m     11\u001b[0m )\n",
            "\u001b[1;31mNameError\u001b[0m: name 'gr' is not defined"
          ]
        }
      ],
      "source": [
        "# Cria os botões\n",
        "iface = gr.Interface(\n",
        "    fn=download_diploma,\n",
        "    inputs=[\n",
        "        gr.inputs.Dropdown([\"Diploma do ICE\", \"Diploma da Engenharia\"], label=\"Selecione o diploma:\")\n",
        "    ],\n",
        "    outputs=\"html\",\n",
        "    title=\"Download de Diplomas\",\n",
        "    description=\"Escolha o diploma que deseja baixar.\",\n",
        "    theme = \"soft\" # \"base\"\n",
        ")"
      ]
    },
    {
      "cell_type": "code",
      "execution_count": null,
      "metadata": {
        "colab": {
          "base_uri": "https://localhost:8080/",
          "height": 611
        },
        "id": "SPd7ZBvhnBx3",
        "outputId": "fb923a43-f194-45d3-a8c6-121f2869460e"
      },
      "outputs": [
        {
          "name": "stdout",
          "output_type": "stream",
          "text": [
            "Colab notebook detected. To show errors in colab notebook, set debug=True in launch()\n",
            "Running on public URL: https://6f50cfe436fb329192.gradio.live\n",
            "\n",
            "This share link expires in 72 hours. For free permanent hosting and GPU upgrades, run `gradio deploy` from Terminal to deploy to Spaces (https://huggingface.co/spaces)\n"
          ]
        },
        {
          "data": {
            "text/html": [
              "<div><iframe src=\"https://6f50cfe436fb329192.gradio.live\" width=\"100%\" height=\"500\" allow=\"autoplay; camera; microphone; clipboard-read; clipboard-write;\" frameborder=\"0\" allowfullscreen></iframe></div>"
            ],
            "text/plain": [
              "<IPython.core.display.HTML object>"
            ]
          },
          "metadata": {},
          "output_type": "display_data"
        },
        {
          "data": {
            "text/plain": []
          },
          "execution_count": 156,
          "metadata": {},
          "output_type": "execute_result"
        }
      ],
      "source": [
        "iface.launch(share=True)"
      ]
    },
    {
      "cell_type": "code",
      "execution_count": null,
      "metadata": {
        "id": "mVgvVtjXYb3C"
      },
      "outputs": [],
      "source": [
        "# Tudo junto\n",
        "\n",
        "import gradio as gr\n",
        "import urllib.request\n",
        "\n",
        "# Função pra cada diploma\n",
        "def download_diploma(diploma):\n",
        "    if diploma == \"Diploma do ICE\":\n",
        "        file_url = \"https://raw.githubusercontent.com/thaistudandoo/Spotify-Data-Exploration/main/ThaisMarins_DiplomaICE_editado.pdf\"\n",
        "    elif diploma == \"Diploma da Engenharia\":\n",
        "        file_url = \"https://raw.githubusercontent.com/thaistudandoo/Spotify-Data-Exploration/main/ThaisMarins_DiplomaEngenharia_editado.pdf\"\n",
        "    else:\n",
        "        return \"Selecione um arquivo para fazer o download.\"\n",
        "\n",
        "    return f'<a href=\"{file_url}\" download>Download do Diploma</a>'\n",
        "\n",
        "# Cria os botões\n",
        "iface = gr.Interface(\n",
        "    fn=download_diploma,\n",
        "    inputs=[\n",
        "        gr.inputs.Dropdown([\"Diploma do ICE\", \"Diploma da Engenharia\"], label=\"Selecione o diploma:\")\n",
        "    ],\n",
        "    outputs=\"html\",\n",
        "    title=\"Download de Diplomas\",\n",
        "    description=\"Escolha o diploma que deseja baixar.\",\n",
        "    theme = \"soft\" # \"base\"\n",
        "\n",
        ")\n",
        "\n",
        "iface.launch(share=True)\n"
      ]
    }
  ],
  "metadata": {
    "colab": {
      "provenance": []
    },
    "kernelspec": {
      "display_name": "Python 3.10.7 64-bit",
      "language": "python",
      "name": "python3"
    },
    "language_info": {
      "codemirror_mode": {
        "name": "ipython",
        "version": 3
      },
      "file_extension": ".py",
      "mimetype": "text/x-python",
      "name": "python",
      "nbconvert_exporter": "python",
      "pygments_lexer": "ipython3",
      "version": "3.10.7"
    },
    "vscode": {
      "interpreter": {
        "hash": "7de9bf2dc59b7d5405821269b4b47c601fe055bd7a63c43d30aa52b2584d0508"
      }
    }
  },
  "nbformat": 4,
  "nbformat_minor": 0
}
